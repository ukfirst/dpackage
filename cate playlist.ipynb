{
 "cells": [
  {
   "cell_type": "code",
   "execution_count": 13,
   "id": "initial_id",
   "metadata": {
    "collapsed": true,
    "ExecuteTime": {
     "end_time": "2024-02-29T20:43:12.918235400Z",
     "start_time": "2024-02-29T20:43:11.345134500Z"
    }
   },
   "outputs": [],
   "source": [
    "from src.google_helper import read_file\n",
    "\n",
    "spotify = '1483PvEoOrgU85i9aSEetDjHGlIsf9yyp'\n",
    "\n",
    "df = read_file(spotify)"
   ]
  },
  {
   "cell_type": "code",
   "execution_count": 14,
   "outputs": [
    {
     "data": {
      "text/plain": "       recency history_segment  history  mens  womens   zip_code  newbie  \\\n0           10  2) $100 - $200   142.44     1       0  Surburban       0   \n1            6  3) $200 - $350   329.08     1       1      Rural       1   \n2            7  2) $100 - $200   180.65     0       1  Surburban       1   \n3            9  5) $500 - $750   675.83     1       0      Rural       1   \n4            2    1) $0 - $100    45.34     1       0      Urban       0   \n...        ...             ...      ...   ...     ...        ...     ...   \n63995       10  2) $100 - $200   105.54     1       0      Urban       0   \n63996        5    1) $0 - $100    38.91     0       1      Urban       1   \n63997        6    1) $0 - $100    29.99     1       0      Urban       1   \n63998        1  5) $500 - $750   552.94     1       0  Surburban       1   \n63999        1  4) $350 - $500   472.82     0       1  Surburban       0   \n\n            channel        segment  visit  conversion  spend  \n0             Phone  Womens E-Mail      0           0    0.0  \n1               Web      No E-Mail      0           0    0.0  \n2               Web  Womens E-Mail      0           0    0.0  \n3               Web    Mens E-Mail      0           0    0.0  \n4               Web  Womens E-Mail      0           0    0.0  \n...             ...            ...    ...         ...    ...  \n63995           Web    Mens E-Mail      0           0    0.0  \n63996         Phone    Mens E-Mail      0           0    0.0  \n63997         Phone    Mens E-Mail      0           0    0.0  \n63998  Multichannel  Womens E-Mail      0           0    0.0  \n63999           Web    Mens E-Mail      0           0    0.0  \n\n[64000 rows x 12 columns]",
      "text/html": "<div>\n<style scoped>\n    .dataframe tbody tr th:only-of-type {\n        vertical-align: middle;\n    }\n\n    .dataframe tbody tr th {\n        vertical-align: top;\n    }\n\n    .dataframe thead th {\n        text-align: right;\n    }\n</style>\n<table border=\"1\" class=\"dataframe\">\n  <thead>\n    <tr style=\"text-align: right;\">\n      <th></th>\n      <th>recency</th>\n      <th>history_segment</th>\n      <th>history</th>\n      <th>mens</th>\n      <th>womens</th>\n      <th>zip_code</th>\n      <th>newbie</th>\n      <th>channel</th>\n      <th>segment</th>\n      <th>visit</th>\n      <th>conversion</th>\n      <th>spend</th>\n    </tr>\n  </thead>\n  <tbody>\n    <tr>\n      <th>0</th>\n      <td>10</td>\n      <td>2) $100 - $200</td>\n      <td>142.44</td>\n      <td>1</td>\n      <td>0</td>\n      <td>Surburban</td>\n      <td>0</td>\n      <td>Phone</td>\n      <td>Womens E-Mail</td>\n      <td>0</td>\n      <td>0</td>\n      <td>0.0</td>\n    </tr>\n    <tr>\n      <th>1</th>\n      <td>6</td>\n      <td>3) $200 - $350</td>\n      <td>329.08</td>\n      <td>1</td>\n      <td>1</td>\n      <td>Rural</td>\n      <td>1</td>\n      <td>Web</td>\n      <td>No E-Mail</td>\n      <td>0</td>\n      <td>0</td>\n      <td>0.0</td>\n    </tr>\n    <tr>\n      <th>2</th>\n      <td>7</td>\n      <td>2) $100 - $200</td>\n      <td>180.65</td>\n      <td>0</td>\n      <td>1</td>\n      <td>Surburban</td>\n      <td>1</td>\n      <td>Web</td>\n      <td>Womens E-Mail</td>\n      <td>0</td>\n      <td>0</td>\n      <td>0.0</td>\n    </tr>\n    <tr>\n      <th>3</th>\n      <td>9</td>\n      <td>5) $500 - $750</td>\n      <td>675.83</td>\n      <td>1</td>\n      <td>0</td>\n      <td>Rural</td>\n      <td>1</td>\n      <td>Web</td>\n      <td>Mens E-Mail</td>\n      <td>0</td>\n      <td>0</td>\n      <td>0.0</td>\n    </tr>\n    <tr>\n      <th>4</th>\n      <td>2</td>\n      <td>1) $0 - $100</td>\n      <td>45.34</td>\n      <td>1</td>\n      <td>0</td>\n      <td>Urban</td>\n      <td>0</td>\n      <td>Web</td>\n      <td>Womens E-Mail</td>\n      <td>0</td>\n      <td>0</td>\n      <td>0.0</td>\n    </tr>\n    <tr>\n      <th>...</th>\n      <td>...</td>\n      <td>...</td>\n      <td>...</td>\n      <td>...</td>\n      <td>...</td>\n      <td>...</td>\n      <td>...</td>\n      <td>...</td>\n      <td>...</td>\n      <td>...</td>\n      <td>...</td>\n      <td>...</td>\n    </tr>\n    <tr>\n      <th>63995</th>\n      <td>10</td>\n      <td>2) $100 - $200</td>\n      <td>105.54</td>\n      <td>1</td>\n      <td>0</td>\n      <td>Urban</td>\n      <td>0</td>\n      <td>Web</td>\n      <td>Mens E-Mail</td>\n      <td>0</td>\n      <td>0</td>\n      <td>0.0</td>\n    </tr>\n    <tr>\n      <th>63996</th>\n      <td>5</td>\n      <td>1) $0 - $100</td>\n      <td>38.91</td>\n      <td>0</td>\n      <td>1</td>\n      <td>Urban</td>\n      <td>1</td>\n      <td>Phone</td>\n      <td>Mens E-Mail</td>\n      <td>0</td>\n      <td>0</td>\n      <td>0.0</td>\n    </tr>\n    <tr>\n      <th>63997</th>\n      <td>6</td>\n      <td>1) $0 - $100</td>\n      <td>29.99</td>\n      <td>1</td>\n      <td>0</td>\n      <td>Urban</td>\n      <td>1</td>\n      <td>Phone</td>\n      <td>Mens E-Mail</td>\n      <td>0</td>\n      <td>0</td>\n      <td>0.0</td>\n    </tr>\n    <tr>\n      <th>63998</th>\n      <td>1</td>\n      <td>5) $500 - $750</td>\n      <td>552.94</td>\n      <td>1</td>\n      <td>0</td>\n      <td>Surburban</td>\n      <td>1</td>\n      <td>Multichannel</td>\n      <td>Womens E-Mail</td>\n      <td>0</td>\n      <td>0</td>\n      <td>0.0</td>\n    </tr>\n    <tr>\n      <th>63999</th>\n      <td>1</td>\n      <td>4) $350 - $500</td>\n      <td>472.82</td>\n      <td>0</td>\n      <td>1</td>\n      <td>Surburban</td>\n      <td>0</td>\n      <td>Web</td>\n      <td>Mens E-Mail</td>\n      <td>0</td>\n      <td>0</td>\n      <td>0.0</td>\n    </tr>\n  </tbody>\n</table>\n<p>64000 rows × 12 columns</p>\n</div>"
     },
     "execution_count": 14,
     "metadata": {},
     "output_type": "execute_result"
    }
   ],
   "source": [],
   "metadata": {
    "collapsed": false,
    "ExecuteTime": {
     "end_time": "2024-02-29T20:43:19.492203300Z",
     "start_time": "2024-02-29T20:43:19.438207100Z"
    }
   },
   "id": "a26c89cdcfa47b47"
  },
  {
   "cell_type": "code",
   "execution_count": null,
   "outputs": [],
   "source": [],
   "metadata": {
    "collapsed": false
   },
   "id": "a969c1ff73524119"
  }
 ],
 "metadata": {
  "kernelspec": {
   "display_name": "Python 3",
   "language": "python",
   "name": "python3"
  },
  "language_info": {
   "codemirror_mode": {
    "name": "ipython",
    "version": 2
   },
   "file_extension": ".py",
   "mimetype": "text/x-python",
   "name": "python",
   "nbconvert_exporter": "python",
   "pygments_lexer": "ipython2",
   "version": "2.7.6"
  }
 },
 "nbformat": 4,
 "nbformat_minor": 5
}
