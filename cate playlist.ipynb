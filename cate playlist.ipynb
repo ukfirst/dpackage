{
 "cells": [
  {
   "cell_type": "code",
   "execution_count": 19,
   "id": "initial_id",
   "metadata": {
    "collapsed": true,
    "ExecuteTime": {
     "end_time": "2024-02-29T20:58:26.877768Z",
     "start_time": "2024-02-29T20:58:25.556681200Z"
    }
   },
   "outputs": [],
   "source": [
    "from src.google_helper import read_file\n",
    "import warnings\n",
    "warnings.filterwarnings('ignore')\n",
    "\n",
    "spotify_daily = '1spihvvV_nFnrbqtw7LPpVbR6iKLgDfnN'\n",
    "\n",
    "df = read_file(spotify_daily)"
   ]
  },
  {
   "cell_type": "code",
   "execution_count": 20,
   "outputs": [
    {
     "data": {
      "text/plain": "[['USUYG1142409', 1],\n ['USUYG1223807', 0.8213381397672135],\n ['USUYG1207507', 0.7552863836233705],\n ['USUYG1226220', 0.6454715346598803]]"
     },
     "execution_count": 20,
     "metadata": {},
     "output_type": "execute_result"
    }
   ],
   "source": [
    "import charts as ch\n",
    "\n",
    "music = ch.MusicAnalysis(df)\n",
    "best = music.best_correlation('USUYG1142409', 3, show_heatmap=False)\n",
    "best"
   ],
   "metadata": {
    "collapsed": false,
    "ExecuteTime": {
     "end_time": "2024-02-29T20:58:30.798779800Z",
     "start_time": "2024-02-29T20:58:30.707778Z"
    }
   },
   "id": "a26c89cdcfa47b47"
  },
  {
   "cell_type": "code",
   "execution_count": null,
   "outputs": [],
   "source": [],
   "metadata": {
    "collapsed": false
   },
   "id": "a969c1ff73524119"
  }
 ],
 "metadata": {
  "kernelspec": {
   "display_name": "Python 3",
   "language": "python",
   "name": "python3"
  },
  "language_info": {
   "codemirror_mode": {
    "name": "ipython",
    "version": 2
   },
   "file_extension": ".py",
   "mimetype": "text/x-python",
   "name": "python",
   "nbconvert_exporter": "python",
   "pygments_lexer": "ipython2",
   "version": "2.7.6"
  }
 },
 "nbformat": 4,
 "nbformat_minor": 5
}
